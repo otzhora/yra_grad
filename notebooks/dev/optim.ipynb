{
 "cells": [
  {
   "cell_type": "code",
   "execution_count": 1,
   "metadata": {},
   "outputs": [],
   "source": [
    "%load_ext autoreload\n",
    "%autoreload 2"
   ]
  },
  {
   "cell_type": "code",
   "execution_count": 2,
   "metadata": {},
   "outputs": [],
   "source": [
    "import numpy as np\n",
    "\n",
    "from yra_grad.tensor import Tensor\n",
    "from yra_grad.optim import SGD"
   ]
  },
  {
   "cell_type": "code",
   "execution_count": 3,
   "metadata": {},
   "outputs": [
    {
     "name": "stdout",
     "output_type": "stream",
     "text": [
      "41.5553\n",
      "10.388825\n",
      "2.5972064\n",
      "0.6493016\n",
      "0.1623254\n",
      "0.04058135\n",
      "0.010145337\n",
      "0.0025363343\n",
      "0.0006340836\n",
      "0.0001585209\n",
      "3.9630224e-05\n",
      "9.907556e-06\n",
      "2.476889e-06\n",
      "6.1922225e-07\n",
      "1.5480556e-07\n",
      "3.870139e-08\n",
      "9.675348e-09\n",
      "2.418837e-09\n",
      "6.047092e-10\n",
      "1.511773e-10\n"
     ]
    }
   ],
   "source": [
    "#x_init = np.random.randn(3,3).astype(np.float32)\n",
    "#W_init = np.random.randn(3,3).astype(np.float32)\n",
    "\n",
    "x = Tensor.randn(3,3)\n",
    "W = Tensor.randn(3,3)\n",
    "\n",
    "\n",
    "#print(x, W)\n",
    "optim = SGD([W], 0.5)\n",
    "\n",
    "for _ in range(20):\n",
    "\n",
    "    out = ((x @ W) ** 2).sum()\n",
    "    out.backward()\n",
    "\n",
    "    optim.step()\n",
    "    optim.zero_grad()\n",
    "    \n",
    "    print(out.data)"
   ]
  },
  {
   "cell_type": "code",
   "execution_count": null,
   "metadata": {},
   "outputs": [],
   "source": []
  }
 ],
 "metadata": {
  "kernelspec": {
   "display_name": "Python 3",
   "language": "python",
   "name": "python3"
  },
  "language_info": {
   "codemirror_mode": {
    "name": "ipython",
    "version": 3
   },
   "file_extension": ".py",
   "mimetype": "text/x-python",
   "name": "python",
   "nbconvert_exporter": "python",
   "pygments_lexer": "ipython3",
   "version": "3.7.0"
  }
 },
 "nbformat": 4,
 "nbformat_minor": 4
}
