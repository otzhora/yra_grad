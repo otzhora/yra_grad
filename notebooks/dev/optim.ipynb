{
 "cells": [
  {
   "cell_type": "code",
   "execution_count": 1,
   "metadata": {},
   "outputs": [],
   "source": [
    "%load_ext autoreload\n",
    "%autoreload 2"
   ]
  },
  {
   "cell_type": "code",
   "execution_count": 2,
   "metadata": {},
   "outputs": [],
   "source": [
    "import numpy as np\n",
    "\n",
    "from yra_grad.tensor import Tensor"
   ]
  },
  {
   "cell_type": "code",
   "execution_count": 3,
   "metadata": {},
   "outputs": [],
   "source": [
    "class Optimizer:\n",
    "    def __init__(self, parameters):\n",
    "        for param in parameters:\n",
    "            if not isinstance(param, Tensor):\n",
    "                raise ValueError(\"all parameters should be Tensor instances\")\n",
    "                \n",
    "        self.parameters = parameters\n",
    "        \n",
    "    def zero_grad(self):\n",
    "        for param in self.parameters:\n",
    "            param.zero_grad()"
   ]
  },
  {
   "cell_type": "code",
   "execution_count": 4,
   "metadata": {},
   "outputs": [],
   "source": [
    "class SGD(Optimizer):\n",
    "    def __init__(self, parameters, lr):\n",
    "        super(SGD, self).__init__(parameters)\n",
    "        self.lr = lr\n",
    "        \n",
    "    def step(self):\n",
    "        for param in self.parameters:\n",
    "            #print(\"before step\", param.prev)\n",
    "            param.step(param.data * self.lr)\n",
    "            #print(\"after step\", param.prev)"
   ]
  },
  {
   "cell_type": "code",
   "execution_count": 5,
   "metadata": {},
   "outputs": [
    {
     "name": "stdout",
     "output_type": "stream",
     "text": [
      "39.14371\n",
      "9.785928\n",
      "2.446482\n",
      "0.6116205\n",
      "0.15290512\n",
      "0.03822628\n",
      "0.00955657\n",
      "0.0023891425\n",
      "0.00059728563\n",
      "0.00014932141\n"
     ]
    }
   ],
   "source": [
    "x_init = np.random.randn(3,3).astype(np.float32)\n",
    "W_init = np.random.randn(3,3).astype(np.float32)\n",
    "\n",
    "x = Tensor(x_init)\n",
    "W = Tensor(W_init)\n",
    "\n",
    "\n",
    "#print(x, W)\n",
    "optim = SGD([W], 0.5)\n",
    "\n",
    "for _ in range(10):\n",
    "\n",
    "    out = ((x @ W) ** 2).sum()\n",
    "    out.backward()\n",
    "\n",
    "    optim.step()\n",
    "    optim.zero_grad()\n",
    "    \n",
    "    print(out.data)"
   ]
  },
  {
   "cell_type": "code",
   "execution_count": null,
   "metadata": {},
   "outputs": [],
   "source": []
  }
 ],
 "metadata": {
  "kernelspec": {
   "display_name": "Python 3",
   "language": "python",
   "name": "python3"
  },
  "language_info": {
   "codemirror_mode": {
    "name": "ipython",
    "version": 3
   },
   "file_extension": ".py",
   "mimetype": "text/x-python",
   "name": "python",
   "nbconvert_exporter": "python",
   "pygments_lexer": "ipython3",
   "version": "3.7.0"
  }
 },
 "nbformat": 4,
 "nbformat_minor": 4
}
