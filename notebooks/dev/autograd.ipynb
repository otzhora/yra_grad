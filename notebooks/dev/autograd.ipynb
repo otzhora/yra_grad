{
 "cells": [
  {
   "cell_type": "code",
   "execution_count": 1,
   "metadata": {},
   "outputs": [],
   "source": [
    "from typing import Optional\n",
    "\n",
    "import numpy as np"
   ]
  },
  {
   "cell_type": "code",
   "execution_count": 2,
   "metadata": {},
   "outputs": [],
   "source": [
    "class Tensor:\n",
    "    def __init__(self, data, is_leaf=True, backward_fn=None):\n",
    "        if not is_leaf and backward_fn is None:\n",
    "            raise ValueError(\"non leaf nodes requires backward_fn\")\n",
    "        \n",
    "        self.is_leaf = is_leaf\n",
    "        self.prev = []\n",
    "        self.backward_fn = backward_fn\n",
    "        self.data = data\n",
    "        self.zero_grad()\n",
    "        \n",
    "    def __repr__(self):\n",
    "        return f'Tensor(data:{self.data}, grad:{self.grad})\\n'\n",
    "    \n",
    "    # grad stuff \n",
    "    \n",
    "    def zero_grad(self):\n",
    "        self.grad = np.zeros(self.data.shape)\n",
    "    \n",
    "    def calculate_grad(self):\n",
    "        self.backward_fn(dy=self.grad)\n",
    "\n",
    "    def backward(self):\n",
    "        topologial_sorted = self._tsort()\n",
    "        self.grad = np.ones(self.data.shape)\n",
    "        for tensor in reversed(topologial_sorted):\n",
    "            tensor.calculate_grad()\n",
    "            \n",
    "    def _tsort(self):\n",
    "        tensors_seen = set()\n",
    "        topological_sorted = []\n",
    "        \n",
    "        def helper(tensor):\n",
    "            if tensor in tensors_seen or tensor.is_leaf:\n",
    "                pass\n",
    "            else: \n",
    "                tensors_seen.add(tensor)\n",
    "                for prev_tensor in tensor.prev:\n",
    "                    helper(prev_tensor)\n",
    "                topological_sorted.append(tensor)\n",
    "        \n",
    "        helper(self)\n",
    "        return topological_sorted\n",
    "    \n",
    "    # ops\n",
    "    \n",
    "    def dot(self, other):\n",
    "        self.check(other)\n",
    "            \n",
    "        def b_fn(dy):\n",
    "            if np.isscalar(dy):\n",
    "                dy = np.ones(1) * dy\n",
    "            self.grad += np.dot(dy, other.data.T)\n",
    "            other.grad += np.dot(self.data.T, dy)\n",
    "        \n",
    "        res = Tensor(np.dot(self.data, other.data), is_leaf=False, backward_fn=b_fn)\n",
    "        res.prev.extend([self, other])\n",
    "        return res\n",
    "    \n",
    "    def minus(self, other):\n",
    "        self.check(other)\n",
    "        \n",
    "        def b_fn(dy):\n",
    "            self.grad -= dy\n",
    "            other.grad -= dy\n",
    "            \n",
    "        res = Tensor(self.data - other.data, is_leaf=False, backward_fn=b_fn)\n",
    "        res.prev.extend([self, other])\n",
    "        return res\n",
    "    \n",
    "    def multiply(self, other):\n",
    "        self.check(other)\n",
    "            \n",
    "        def b_fn(dy):\n",
    "            if np.isscalar(dy):\n",
    "                dy = np.ones(1) * dy\n",
    "            self.grad += np.multiply(dy, other.data)\n",
    "            other.grad += np.multiply(dy, self.data)\n",
    "        \n",
    "        res = Tensor(np.multiply(self.data, other.data), is_leaf=False, backward_fn=b_fn)\n",
    "        res.prev.extend([self, other])\n",
    "        return res\n",
    "    \n",
    "    def plus(self, other):\n",
    "        self.check(other)\n",
    "        \n",
    "        def b_fn(dy):\n",
    "            self.grad += dy\n",
    "            other.grad += dy\n",
    "            \n",
    "        res = Tensor(self.data + other.data, is_leaf=False, backward_fn=b_fn)\n",
    "        res.prev.extend([self, other])\n",
    "        return res\n",
    "    \n",
    "    def plus_bias(self, bias):\n",
    "        self.check(bias)\n",
    "        \n",
    "        def b_fn(dy):\n",
    "            bias.grad += dy.sum(axis=0)\n",
    "            self.grad += dy\n",
    "            \n",
    "        res = Tensor(self.data + bias.data, is_leaf=False, backward_fn=b_fn)\n",
    "        res.prev.extend([self, bias])\n",
    "        return res\n",
    "    \n",
    "    def relu(self):\n",
    "        def b_fn(dy=1):\n",
    "            self.grad[self.data > 0] += dy[self.data > 0]\n",
    "            \n",
    "        res = Tensor(np.maximum(self.data, 0), is_leaf=False, backward_fn=b_fn)\n",
    "        res.prev.append(self)\n",
    "        return res\n",
    "    \n",
    "    def scalar_mul(self, scalar):\n",
    "        if not isinstance(scalar,(int, float)):\n",
    "            raise ValueError('c needs to be one of (int, float)')\n",
    "            \n",
    "        def b_fn(dy=1):\n",
    "            self.grad += dy * c\n",
    "        \n",
    "        res = Tensor(self.data * scalar, is_leaf=False, backward_fn=b_fn)\n",
    "        res.prev.append(self)\n",
    "        return res\n",
    "    \n",
    "    def sum(self):\n",
    "        def b_fn(dy=1):\n",
    "            self.grad += np.ones(a.data.shape) * dy\n",
    "        \n",
    "        res = Tensor(np.sum(self.data), is_leaf=False, backward_fn=b_fn)\n",
    "        res.prev.append(self)\n",
    "        return res\n",
    "    \n",
    "    def transpose(self):\n",
    "        def b_fn(dy):\n",
    "            self.grad += dy.T\n",
    "            \n",
    "        res = Tensor(self.data.T, is_leaf=False, backward_fn=b_fn)\n",
    "        res.prev.append(self)\n",
    "        return res\n",
    "    \n",
    "\n",
    "    # helper stuff\n",
    "    \n",
    "    def check(self, *others):\n",
    "        for other in others:\n",
    "            if not isinstance(other, Tensor):\n",
    "                raise ValueError(\"other needs to be a Tensor instance\")\n",
    "                \n",
    "    def shape(self):\n",
    "        return self.data.shape"
   ]
  },
  {
   "cell_type": "code",
   "execution_count": 3,
   "metadata": {},
   "outputs": [
    {
     "name": "stdout",
     "output_type": "stream",
     "text": [
      "[[-2. -1.  0.  1.]\n",
      " [-2. -1.  0.  1.]]\n",
      "[[-4.]\n",
      " [-2.]\n",
      " [ 0.]\n",
      " [ 2.]]\n"
     ]
    }
   ],
   "source": [
    "# We want this to work\n",
    "l1 = Tensor(np.arange(-4,4).reshape(2,4))\n",
    "l2 = Tensor(np.arange(-2,2).reshape(4,1))\n",
    "n1 = l1.dot(l2)\n",
    "n2 = n1.relu()\n",
    "n3 = n2.sum()\n",
    "n2.backward()\n",
    "print(l1.grad)\n",
    "# [[-2. -1.  0.  1.]\n",
    "#  [-2. -1.  0.  1.]]\n",
    "print(l2.grad)\n",
    "# [[-4.]\n",
    "#  [-2.]\n",
    "#  [ 0.]\n",
    "#  [ 2.]]"
   ]
  },
  {
   "cell_type": "code",
   "execution_count": 4,
   "metadata": {},
   "outputs": [
    {
     "data": {
      "text/plain": [
       "(Tensor(data:[[-4 -3 -2 -1]\n",
       "  [ 0  1  2  3]], grad:[[0. 0. 0. 0.]\n",
       "  [0. 0. 0. 0.]]),\n",
       " Tensor(data:[[-4 -3 -2 -1]\n",
       "  [ 0  1  2  3]], grad:[[0. 0. 0. 0.]\n",
       "  [0. 0. 0. 0.]]))"
      ]
     },
     "execution_count": 4,
     "metadata": {},
     "output_type": "execute_result"
    }
   ],
   "source": [
    "l1 = Tensor(np.arange(-4,4).reshape(2,4))\n",
    "l2 = Tensor(np.arange(-4,4).reshape(2,4))\n",
    "l1, l2"
   ]
  },
  {
   "cell_type": "code",
   "execution_count": 5,
   "metadata": {},
   "outputs": [
    {
     "data": {
      "text/plain": [
       "Tensor(data:[[16  9  4  1]\n",
       " [ 0  1  4  9]], grad:[[0. 0. 0. 0.]\n",
       " [0. 0. 0. 0.]])"
      ]
     },
     "execution_count": 5,
     "metadata": {},
     "output_type": "execute_result"
    }
   ],
   "source": [
    "n1 = l1.multiply(l2)\n",
    "n1"
   ]
  },
  {
   "cell_type": "code",
   "execution_count": 6,
   "metadata": {},
   "outputs": [],
   "source": [
    "n1.backward()"
   ]
  },
  {
   "cell_type": "code",
   "execution_count": 7,
   "metadata": {},
   "outputs": [
    {
     "data": {
      "text/plain": [
       "array([[-4., -3., -2., -1.],\n",
       "       [ 0.,  1.,  2.,  3.]])"
      ]
     },
     "execution_count": 7,
     "metadata": {},
     "output_type": "execute_result"
    }
   ],
   "source": [
    "l1.grad"
   ]
  },
  {
   "cell_type": "code",
   "execution_count": 8,
   "metadata": {},
   "outputs": [
    {
     "data": {
      "text/plain": [
       "array([[-4., -3., -2., -1.],\n",
       "       [ 0.,  1.,  2.,  3.]])"
      ]
     },
     "execution_count": 8,
     "metadata": {},
     "output_type": "execute_result"
    }
   ],
   "source": [
    "l2.grad"
   ]
  },
  {
   "cell_type": "code",
   "execution_count": null,
   "metadata": {},
   "outputs": [],
   "source": []
  }
 ],
 "metadata": {
  "kernelspec": {
   "display_name": "Python 3",
   "language": "python",
   "name": "python3"
  },
  "language_info": {
   "codemirror_mode": {
    "name": "ipython",
    "version": 3
   },
   "file_extension": ".py",
   "mimetype": "text/x-python",
   "name": "python",
   "nbconvert_exporter": "python",
   "pygments_lexer": "ipython3",
   "version": "3.7.0"
  }
 },
 "nbformat": 4,
 "nbformat_minor": 1
}
